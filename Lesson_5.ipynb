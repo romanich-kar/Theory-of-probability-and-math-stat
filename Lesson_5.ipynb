{
  "nbformat": 4,
  "nbformat_minor": 0,
  "metadata": {
    "colab": {
      "name": "Lesson_5.ipynb",
      "provenance": [],
      "collapsed_sections": []
    },
    "kernelspec": {
      "name": "python3",
      "display_name": "Python 3"
    },
    "language_info": {
      "name": "python"
    }
  },
  "cells": [
    {
      "cell_type": "markdown",
      "source": [
        "__Задача 1__\n",
        "\n",
        "Известно, что генеральная совокупность распределена нормально с известным средним квадратическим отклонением 16. Найти ширину доверительного интервала для оценки математического ожидания `mu` с надёжностью 0.95, если выборочное среднее равно 80, а объём выборки равен 256."
      ],
      "metadata": {
        "id": "FFYsj5rbGwB7"
      }
    },
    {
      "cell_type": "code",
      "source": [
        "import numpy as np\n",
        "from scipy import stats"
      ],
      "metadata": {
        "id": "MwdIbSn_T6Co"
      },
      "execution_count": 15,
      "outputs": []
    },
    {
      "cell_type": "markdown",
      "source": [
        "__Решение__\n",
        "\n",
        "Известны следующие величины:"
      ],
      "metadata": {
        "id": "ssYVr3AsG5XD"
      }
    },
    {
      "cell_type": "code",
      "execution_count": 16,
      "metadata": {
        "id": "aY6SM0xnGvKF"
      },
      "outputs": [],
      "source": [
        "D = 16\n",
        "std = D**0.5\n",
        "p = 0.95\n",
        "alpha = 1 - p\n",
        "sm = 80\n",
        "n = 256"
      ]
    },
    {
      "cell_type": "markdown",
      "source": [
        "Нужные нам квантили для нормального распределения найдём с помощью `scipy`:"
      ],
      "metadata": {
        "id": "SqBMy4jtWbqA"
      }
    },
    {
      "cell_type": "code",
      "source": [
        "t1 = stats.norm.ppf(alpha / 2)\n",
        "t2 = stats.norm.ppf(1 - alpha / 2)\n",
        "t1, t2\n",
        "print('Ширина доверительного интервала равна:',round(t2 - t1, 8))"
      ],
      "metadata": {
        "colab": {
          "base_uri": "https://localhost:8080/"
        },
        "id": "jfRTmWRHWiaF",
        "outputId": "e67ca038-18c4-412d-b2a5-c3aa279bbb19"
      },
      "execution_count": 17,
      "outputs": [
        {
          "output_type": "stream",
          "name": "stdout",
          "text": [
            "Ширина доверительного интервала равна: 3.91992797\n"
          ]
        }
      ]
    },
    {
      "cell_type": "markdown",
      "source": [
        "__Задача 2__\n",
        "\n",
        "Продавец утверждает, что средний вес пачки печенья составляет 200 г. Из партии извлечена выборка из 10 пачек. Вес каждой пачки составляет:\n",
        "```\n",
        "202, 203, 199, 197, 195, 201, 200, 204, 194, 190\n",
        "```\n",
        "Известно, что их веса распределены нормально. Верно ли утверждение продавца, если учитывать, что уровень значимости равен 1%? Найдите P-значение для данного теста и укажите его в качестве ответа."
      ],
      "metadata": {
        "id": "X8ByMjHFXXxu"
      }
    },
    {
      "cell_type": "markdown",
      "source": [
        "Определим известные нам из условия задачи значения:"
      ],
      "metadata": {
        "id": "r3H44NHrXkiN"
      }
    },
    {
      "cell_type": "code",
      "source": [
        "samples = np.array([202, 203, 199, 197, 195, 201, 200, 204, 194, 190])\n",
        "mu_0 = 200\n",
        "n = 10\n",
        "alpha_0 = 0.01"
      ],
      "metadata": {
        "id": "mTWHXQByYnLY"
      },
      "execution_count": 18,
      "outputs": []
    },
    {
      "cell_type": "markdown",
      "source": [
        "Так как по условию задачи генеральная совокупность распределена нормально, но неизвестна дисперсия, то можно воспользоваться t-статистикой. Определим функцию для t-статистики:"
      ],
      "metadata": {
        "id": "Hfd0MHpscsS8"
      }
    },
    {
      "cell_type": "code",
      "source": [
        "def statistic(samples: np.ndarray) -> float:\n",
        "    return (samples.mean() - mu_0) / (samples.std(ddof=1) / np.sqrt(n))"
      ],
      "metadata": {
        "id": "9C_qkCjYcz9D"
      },
      "execution_count": 19,
      "outputs": []
    },
    {
      "cell_type": "markdown",
      "source": [
        "Проверим предположение продавца. Найдем квантили критической области и статистику по имеющейся выборке. "
      ],
      "metadata": {
        "id": "JZdkSu-iiXNJ"
      }
    },
    {
      "cell_type": "code",
      "source": [
        "t1 = stats.t.ppf(alpha_0 / 2, df=n - 1)\n",
        "t2 = stats.t.ppf(1 - alpha_0 / 2, df=n - 1)\n",
        "\n",
        "t1, t2"
      ],
      "metadata": {
        "colab": {
          "base_uri": "https://localhost:8080/"
        },
        "id": "k7v7wf6-i7dJ",
        "outputId": "9425bf80-8589-4e82-85eb-3c76071257ce"
      },
      "execution_count": 20,
      "outputs": [
        {
          "output_type": "execute_result",
          "data": {
            "text/plain": [
              "(-3.24983554401537, 3.2498355440153697)"
            ]
          },
          "metadata": {},
          "execution_count": 20
        }
      ]
    },
    {
      "cell_type": "code",
      "source": [
        "S = statistic(samples)\n",
        "S"
      ],
      "metadata": {
        "colab": {
          "base_uri": "https://localhost:8080/"
        },
        "id": "z9vbaDq9jedu",
        "outputId": "efa4bfc6-7297-4b2f-f175-495e4bcf1e11"
      },
      "execution_count": 21,
      "outputs": [
        {
          "output_type": "execute_result",
          "data": {
            "text/plain": [
              "-1.0651074037450896"
            ]
          },
          "metadata": {},
          "execution_count": 21
        }
      ]
    },
    {
      "cell_type": "markdown",
      "source": [
        "Так как значение статитистики не лежит в критической области, то предположение продавца о том, что средний вес пачки печенья составляет 200 грамм, не противоречит данным выборки."
      ],
      "metadata": {
        "id": "fZDmB0BspDWj"
      }
    },
    {
      "cell_type": "markdown",
      "source": [
        "Теперь прикинем P-значение для этой выборки:"
      ],
      "metadata": {
        "id": "LKuGn4ul51KL"
      }
    },
    {
      "cell_type": "code",
      "source": [
        "print('alpha\\tresult')\n",
        "print('-------------')\n",
        "\n",
        "for alpha in np.linspace(0.31, 0.32, 20):\n",
        "    t1 = stats.t.ppf(alpha / 2, df=n - 1)\n",
        "    t2 = stats.t.ppf(1 - alpha / 2, df=n - 1)\n",
        "    \n",
        "    print(round(alpha, 4), '\\t', t1 <= S <= t2)"
      ],
      "metadata": {
        "colab": {
          "base_uri": "https://localhost:8080/"
        },
        "id": "n0CL4xiSuTQD",
        "outputId": "a5dc29a2-ada4-4253-c4d9-5486bebfc53c"
      },
      "execution_count": 22,
      "outputs": [
        {
          "output_type": "stream",
          "name": "stdout",
          "text": [
            "alpha\tresult\n",
            "-------------\n",
            "0.31 \t True\n",
            "0.3105 \t True\n",
            "0.3111 \t True\n",
            "0.3116 \t True\n",
            "0.3121 \t True\n",
            "0.3126 \t True\n",
            "0.3132 \t True\n",
            "0.3137 \t True\n",
            "0.3142 \t True\n",
            "0.3147 \t False\n",
            "0.3153 \t False\n",
            "0.3158 \t False\n",
            "0.3163 \t False\n",
            "0.3168 \t False\n",
            "0.3174 \t False\n",
            "0.3179 \t False\n",
            "0.3184 \t False\n",
            "0.3189 \t False\n",
            "0.3195 \t False\n",
            "0.32 \t False\n"
          ]
        }
      ]
    },
    {
      "cell_type": "code",
      "source": [
        "print('P-значение примерно равно:', round((0.3142+0.3147)/2, 4))"
      ],
      "metadata": {
        "colab": {
          "base_uri": "https://localhost:8080/"
        },
        "id": "qC2jSd486oRt",
        "outputId": "0be102b6-746e-4245-d2bb-fc630a0a026c"
      },
      "execution_count": 23,
      "outputs": [
        {
          "output_type": "stream",
          "name": "stdout",
          "text": [
            "P-значение примерно равно: 0.3145\n"
          ]
        }
      ]
    },
    {
      "cell_type": "markdown",
      "source": [
        "__Задача 3__\n",
        "\n",
        "Дана выборка диаметров подшипников из примера 1 с занятия 5:\n",
        "```\n",
        "samples = [0.6603, 0.9466, 0.5968, 1.3792, 1.5481, 0.7515, 1.0681, 1.1134,\n",
        "           1.2088, 1.701 , 1.0282, 1.3579, 1.0191, 1.1784, 1.1168, 1.1372,\n",
        "           0.7273, 1.3958, 0.8665, 1.5112, 1.161 , 1.0232, 1.0865, 1.02  ]\n",
        "```\n",
        "Предполагая, что диаметры подшипников распределены нормально, проверьте гипотезу о том, что дисперсия случайной величины равна `0.0625` при уровне значимости `alpha = 0.05`. Что для этого нужно знать:\n",
        "1. Альтернативная гипотеза двухсторонняя.\n",
        "2. Статистика для теста: `H = (n - 1) * sample_variance / variance`, где `n` - число элементов в выборке, `sample_variance` - несмещённая оценка дисперсии, `variance` - утверждаемая нулевой гипотезой дисперсия.\n",
        "3. Эта статистика в предположении верности нулевой гипотезы имеет распределение хи-квадрат с параметром `df = n - 1`. Её квантили можно найти с помощью функции `scipy.stats.chi2.ppf`.\n",
        "\n",
        "В качестве ответа запишите 1, если нулевая гипотеза верна, и 0 иначе."
      ],
      "metadata": {
        "id": "3YqSpWWju0ET"
      }
    },
    {
      "cell_type": "markdown",
      "source": [
        "__Решение__\n",
        "\n",
        "Сформулируем нулевую гипотезу $H_0$: дисперсия случайной величны диаметра подшипника равна 0.0625. Альтернативная гипотеза $H$: дисперсия случайной величны диаметра подшипника не равна 0.0625.\n",
        "\n",
        "Статистика для теста: H = (n - 1) * sample_variance / variance, где n - число элементов в выборке, sample_variance - несмещённая оценка дисперсии, variance - утверждаемая нулевой гипотезой дисперсия.\n",
        "Определим остальные величины:"
      ],
      "metadata": {
        "id": "QwsGoOFfP3-d"
      }
    },
    {
      "cell_type": "code",
      "source": [
        "variance = 0.0625\n",
        "alpha = 0.05\n",
        "samples = np.array([0.6603, 0.9466, 0.5968, 1.3792, 1.5481, 0.7515, 1.0681, 1.1134,\n",
        "           1.2088, 1.701 , 1.0282, 1.3579, 1.0191, 1.1784, 1.1168, 1.1372,\n",
        "           0.7273, 1.3958, 0.8665, 1.5112, 1.161 , 1.0232, 1.0865, 1.02])\n",
        "n = samples.shape[0]"
      ],
      "metadata": {
        "id": "O0DWBzvFT6OL"
      },
      "execution_count": 24,
      "outputs": []
    },
    {
      "cell_type": "markdown",
      "source": [
        "Определим функцию для статистики:"
      ],
      "metadata": {
        "id": "53creQxHUoEi"
      }
    },
    {
      "cell_type": "code",
      "source": [
        "def statistic_H(samples: np.ndarray) -> float:\n",
        "    return (n - 1) * samples.var(ddof=1) / variance"
      ],
      "metadata": {
        "id": "CvNlJ4HhUsvK"
      },
      "execution_count": 30,
      "outputs": []
    },
    {
      "cell_type": "code",
      "source": [
        "samples.std(ddof=1)"
      ],
      "metadata": {
        "colab": {
          "base_uri": "https://localhost:8080/"
        },
        "id": "JVYLoNvfY_VQ",
        "outputId": "242c8d54-b6da-4b85-efc8-1233d11d78c3"
      },
      "execution_count": 26,
      "outputs": [
        {
          "output_type": "execute_result",
          "data": {
            "text/plain": [
              "0.27936526343958135"
            ]
          },
          "metadata": {},
          "execution_count": 26
        }
      ]
    },
    {
      "cell_type": "markdown",
      "source": [
        "Определим критическую область для нашей гипотезы:"
      ],
      "metadata": {
        "id": "dHRfrfBIX7Ty"
      }
    },
    {
      "cell_type": "code",
      "source": [
        "t1 = stats.chi2.ppf(alpha/2, df=n - 1)\n",
        "t2 = stats.chi2.ppf(1 - alpha/2, df=n - 1)\n",
        "t1, t2"
      ],
      "metadata": {
        "colab": {
          "base_uri": "https://localhost:8080/"
        },
        "id": "Uo3SSCzFYTCJ",
        "outputId": "36fb43e3-190d-451c-df56-d2e0f96f0abd"
      },
      "execution_count": 27,
      "outputs": [
        {
          "output_type": "execute_result",
          "data": {
            "text/plain": [
              "(11.688551922452438, 38.0756272503558)"
            ]
          },
          "metadata": {},
          "execution_count": 27
        }
      ]
    },
    {
      "cell_type": "markdown",
      "source": [
        "Итак, критическая область значений для нашей гипотезы: $$\\Omega_\\alpha = (-\\infty, 11.689) \\cup (38.075, \\infty)$$. Теперь вычислим статистику:"
      ],
      "metadata": {
        "id": "WzCHOYDAadty"
      }
    },
    {
      "cell_type": "code",
      "source": [
        "S = statistic_H(samples)\n",
        "S"
      ],
      "metadata": {
        "colab": {
          "base_uri": "https://localhost:8080/"
        },
        "id": "qaaJfmwyahoB",
        "outputId": "a13c46e8-a5de-4bcd-94a9-8800125c009f"
      },
      "execution_count": 31,
      "outputs": [
        {
          "output_type": "execute_result",
          "data": {
            "text/plain": [
              "28.720541753333343"
            ]
          },
          "metadata": {},
          "execution_count": 31
        }
      ]
    },
    {
      "cell_type": "markdown",
      "source": [
        "Значение статистики не попало в критическую область, нулевая гипотеза верна.\n",
        "\n",
        "Ответ: 1"
      ],
      "metadata": {
        "id": "srQEoT9CcGwO"
      }
    }
  ]
}