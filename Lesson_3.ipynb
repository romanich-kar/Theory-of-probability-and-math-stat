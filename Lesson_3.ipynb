{
  "nbformat": 4,
  "nbformat_minor": 0,
  "metadata": {
    "colab": {
      "name": "Lesson_3.ipynb",
      "provenance": [],
      "collapsed_sections": []
    },
    "kernelspec": {
      "name": "python3",
      "display_name": "Python 3"
    },
    "language_info": {
      "name": "python"
    }
  },
  "cells": [
    {
      "cell_type": "markdown",
      "source": [
        "###Задача 1\n",
        "\n",
        "Даны значения зарплат из выборки выпускников: \n",
        "```\n",
        "100, 80, 75, 77, 89, 33, 45, 25, 65, 17, 30, 230, 24, 57, 55, 70, 75, 65, 84, 90, 150\n",
        "```\n",
        "Используя только встроенные питоновские функции и структуры данных (т.е. без библиотек `numpy`, `pandas` и др.), посчитайте (несмещённое) среднее квадратичное отклонение для данной выборки."
      ],
      "metadata": {
        "id": "WyMWxpxlW6hQ"
      }
    },
    {
      "cell_type": "markdown",
      "source": [
        "###Решение\n",
        "\n",
        "Для начала найдем дисперсию этой выборки:"
      ],
      "metadata": {
        "id": "2zUjEXl3XB4f"
      }
    },
    {
      "cell_type": "code",
      "source": [
        "a = [100, 80, 75, 77, 89, 33, 45, 25, 65, 17, 30, 230, 24, 57, 55, 70, 75, 65, 84, 90, 150]\n",
        "a_mean = sum(a)/len(a)\n",
        "a_mean"
      ],
      "metadata": {
        "colab": {
          "base_uri": "https://localhost:8080/"
        },
        "id": "YfDp6ryCXQsv",
        "outputId": "f89bb967-2fa6-42c9-e130-a97a16d990fe"
      },
      "execution_count": 3,
      "outputs": [
        {
          "output_type": "execute_result",
          "data": {
            "text/plain": [
              "73.14285714285714"
            ]
          },
          "metadata": {},
          "execution_count": 3
        }
      ]
    },
    {
      "cell_type": "code",
      "source": [
        "def variance(l: list):\n",
        "    \"\"\"Несмещенная дисперсия\n",
        "    \"\"\"\n",
        "    n = len(l)\n",
        "    l = map(lambda x: (x - a_mean) ** 2, l)\n",
        "    \n",
        "    return sum(l)/(n-1)"
      ],
      "metadata": {
        "id": "HZmQ8PVXYoth"
      },
      "execution_count": 4,
      "outputs": []
    },
    {
      "cell_type": "code",
      "source": [
        "variance(a)"
      ],
      "metadata": {
        "colab": {
          "base_uri": "https://localhost:8080/"
        },
        "id": "9jtucb7ZaKSC",
        "outputId": "3481f24f-5c70-4721-c98d-0fdc656c7612"
      },
      "execution_count": 5,
      "outputs": [
        {
          "output_type": "execute_result",
          "data": {
            "text/plain": [
              "2241.8285714285716"
            ]
          },
          "metadata": {},
          "execution_count": 5
        }
      ]
    },
    {
      "cell_type": "markdown",
      "source": [
        "Теперь найдем среднеквадратическое отклонение:"
      ],
      "metadata": {
        "id": "dHqTwCUcaSJG"
      }
    },
    {
      "cell_type": "code",
      "source": [
        "STD = variance(a)**0.5\n",
        "print(round(STD, 8))"
      ],
      "metadata": {
        "colab": {
          "base_uri": "https://localhost:8080/"
        },
        "id": "Cg4wetxXaZ7n",
        "outputId": "3d3bcdf1-05b7-4ad5-95a9-fe40318d7573"
      },
      "execution_count": 8,
      "outputs": [
        {
          "output_type": "stream",
          "name": "stdout",
          "text": [
            "47.34795214\n"
          ]
        }
      ]
    },
    {
      "cell_type": "markdown",
      "source": [
        "###Задача 2\n",
        "\n",
        "Найдите число выбросов в выборке из задачи 1. Для определения выбросов используйте методику как при построении \"усов\" в `boxplot`, однако, как и в задаче 1, пользоваться можно только встроенными функциями и структурами данных."
      ],
      "metadata": {
        "id": "i_YCGw_mbgWq"
      }
    },
    {
      "cell_type": "markdown",
      "source": [
        "###Решение\n",
        "\n",
        "Для определения выбросов в выборке нам необходимо знать интерквартильный размах. Поэтому, для начала определим функцию для поиска квантилей."
      ],
      "metadata": {
        "id": "ACDWTvvabsSh"
      }
    },
    {
      "cell_type": "code",
      "source": [
        "def quantile(l: list, order: float) -> float:\n",
        "    \"\"\"Квантиль порядка `order` по списку `l`.\n",
        "    \"\"\"\n",
        "    l = sorted(l)\n",
        "    n = len(l)\n",
        "    n_left_elements = int(n * order)\n",
        "    n_right_elements = int(n * (1 - order))\n",
        "    \n",
        "    if n_left_elements + n_right_elements == n:\n",
        "        return (l[n_left_elements - 1] + l[n_left_elements]) / 2\n",
        "    else:\n",
        "        assert n_left_elements + n_right_elements == n - 1\n",
        "        \n",
        "        return l[n_left_elements]"
      ],
      "metadata": {
        "id": "-HXXNA5pes9A"
      },
      "execution_count": 10,
      "outputs": []
    },
    {
      "cell_type": "markdown",
      "source": [
        "Найдем 1-ый, 2-ой (медиана) и 3-ий квартили:"
      ],
      "metadata": {
        "id": "pZ0692vVfm2u"
      }
    },
    {
      "cell_type": "code",
      "source": [
        "print(quantile(a, 0.25))\n",
        "print(quantile(a, 0.5))\n",
        "print(quantile(a, 0.75))"
      ],
      "metadata": {
        "colab": {
          "base_uri": "https://localhost:8080/"
        },
        "id": "OkyvjXooflLh",
        "outputId": "93bee991-6125-47fa-ca13-1a25a1d645ec"
      },
      "execution_count": 13,
      "outputs": [
        {
          "output_type": "stream",
          "name": "stdout",
          "text": [
            "45\n",
            "70\n",
            "84\n"
          ]
        }
      ]
    },
    {
      "cell_type": "markdown",
      "source": [
        "И интеркавартильный размах:"
      ],
      "metadata": {
        "id": "fl3JpAo0gz51"
      }
    },
    {
      "cell_type": "code",
      "source": [
        "IQD = quantile(a, 0.75) - quantile(a, 0.25)\n",
        "IQD"
      ],
      "metadata": {
        "colab": {
          "base_uri": "https://localhost:8080/"
        },
        "id": "YX_9LbBmgWVa",
        "outputId": "a2c3dd2f-dd9b-456e-85c0-f4b0467736dd"
      },
      "execution_count": 14,
      "outputs": [
        {
          "output_type": "execute_result",
          "data": {
            "text/plain": [
              "39"
            ]
          },
          "metadata": {},
          "execution_count": 14
        }
      ]
    },
    {
      "cell_type": "markdown",
      "source": [
        "Теперь найдем размер достоверной выборки:"
      ],
      "metadata": {
        "id": "-PVO5yyxg5w1"
      }
    },
    {
      "cell_type": "code",
      "source": [
        "boxplot_range = (quantile(a, 0.25) - 1.5 * IQD, quantile(a, 0.75) + 1.5 * IQD)\n",
        "boxplot_range"
      ],
      "metadata": {
        "colab": {
          "base_uri": "https://localhost:8080/"
        },
        "id": "QwpuScnmhEAQ",
        "outputId": "117fdd21-2f90-4402-f0a8-904c21728419"
      },
      "execution_count": 15,
      "outputs": [
        {
          "output_type": "execute_result",
          "data": {
            "text/plain": [
              "(-13.5, 142.5)"
            ]
          },
          "metadata": {},
          "execution_count": 15
        }
      ]
    },
    {
      "cell_type": "markdown",
      "source": [
        "Значения, лежащие за этими пределами, являются выбросами:"
      ],
      "metadata": {
        "id": "pvIXWb_qifbt"
      }
    },
    {
      "cell_type": "code",
      "source": [
        "outliers = []\n",
        "for i in a:\n",
        "  if (i < boxplot_range[0]) or (i > boxplot_range[1]):\n",
        "    outliers.append(i)\n",
        "print(outliers)"
      ],
      "metadata": {
        "colab": {
          "base_uri": "https://localhost:8080/"
        },
        "id": "5vPQFnaJiVdq",
        "outputId": "be560a5c-bbba-4777-e47b-1d87cdcbaa97"
      },
      "execution_count": 16,
      "outputs": [
        {
          "output_type": "stream",
          "name": "stdout",
          "text": [
            "[230, 150]\n"
          ]
        }
      ]
    },
    {
      "cell_type": "markdown",
      "source": [
        "###Задача 3\n",
        "\n",
        "В университет на факультет A поступило 100 человек, на факультет B - 90 человек и на факультет C - 45 человек. Вероятность того, что студент с факультета A сдаст первую сессию, равна 0.6. Для студента с факультета B эта вероятность равна 0.7, а для студента с факультета C - 0.8. Случайным образом выбирается студент, сдавший первую сессию. Какое событие наиболее вероятно:\n",
        "\n",
        "студент учится на факультете A,\n",
        "студент учится на факультете B,\n",
        "студент учится на факультете C?"
      ],
      "metadata": {
        "id": "cyY_LGpWjUIx"
      }
    },
    {
      "cell_type": "markdown",
      "source": [
        "###Решение\n",
        "\n",
        "Для начала определим события. Пусть $A$, $B$, $C$ — события, заключающиеся в том, что случайным образом взятый студент учится, соответственно, на факультете $A$, $B$ или $C$. Кроме того, пусть событие $S$ обозначает, что случайным образом взятый студент сдал первую сессию. Для решения задачи нам нужно посчитать условные вероятности\n",
        "$$P(A|S), \\: P(B|S), \\: P(C|S)$$\n",
        "Данные вероятности можно посчитать с помощью формулы Байеса.\n",
        "Оценим вероятности $P(A)$, $P(B)$ и $P(C)$:"
      ],
      "metadata": {
        "id": "9LnVbgttjluP"
      }
    },
    {
      "cell_type": "code",
      "source": [
        "A = 100\n",
        "B = 90\n",
        "C = 45\n",
        "\n",
        "p_A = A / (A+B+C)\n",
        "p_B = B / (A+B+C)\n",
        "p_C = C / (A+B+C)\n",
        "\n",
        "p_A, p_B, p_C"
      ],
      "metadata": {
        "colab": {
          "base_uri": "https://localhost:8080/"
        },
        "id": "2qJvfL9Dnpim",
        "outputId": "0b8e9c3e-6b3a-492d-da91-dc0a0771ae9d"
      },
      "execution_count": 17,
      "outputs": [
        {
          "output_type": "execute_result",
          "data": {
            "text/plain": [
              "(0.425531914893617, 0.3829787234042553, 0.19148936170212766)"
            ]
          },
          "metadata": {},
          "execution_count": 17
        }
      ]
    },
    {
      "cell_type": "markdown",
      "source": [
        "Из условий задачи вероятности $P(S | A)$, $P(S | B)$, $P(S | C)$ равны:"
      ],
      "metadata": {
        "id": "zCzI1FTboJtu"
      }
    },
    {
      "cell_type": "code",
      "source": [
        "p_SA = 0.5\n",
        "p_SB = 0.6\n",
        "p_SC = 0.7"
      ],
      "metadata": {
        "id": "5z0OT7xroc3t"
      },
      "execution_count": 18,
      "outputs": []
    },
    {
      "cell_type": "markdown",
      "source": [
        "Для того, чтобы посчитать вероятность $P(S)$, нам понадобится формула полной вероятности: $$P(S) = P(S | A) \\cdot P(A) + P(S | B) \\cdot P(B) + P(S | C) \\cdot P(C)$$"
      ],
      "metadata": {
        "id": "uYbU0tuhorLq"
      }
    },
    {
      "cell_type": "code",
      "source": [
        "p_S = p_SA * p_A + p_SB * p_B + p_SC * p_C\n",
        "p_S"
      ],
      "metadata": {
        "colab": {
          "base_uri": "https://localhost:8080/"
        },
        "id": "sh2PX8Beo8ik",
        "outputId": "0ab2ad51-16ec-40f2-a35c-edcb3c6eb059"
      },
      "execution_count": 19,
      "outputs": [
        {
          "output_type": "execute_result",
          "data": {
            "text/plain": [
              "0.5765957446808511"
            ]
          },
          "metadata": {},
          "execution_count": 19
        }
      ]
    },
    {
      "cell_type": "markdown",
      "source": [
        "Применяем формулу Байеса для каждого факультета:"
      ],
      "metadata": {
        "id": "heGC7b4Lpdpt"
      }
    },
    {
      "cell_type": "code",
      "source": [
        "p_AS = p_SA * p_A / p_S\n",
        "p_BS = p_SB * p_B / p_S\n",
        "p_CS = p_SC * p_C / p_S\n",
        "\n",
        "p_AS, p_BS, p_CS"
      ],
      "metadata": {
        "colab": {
          "base_uri": "https://localhost:8080/"
        },
        "id": "w6NrMhIMpkoI",
        "outputId": "66f2692e-ecd4-4aa3-d008-fe32ecf2334e"
      },
      "execution_count": 21,
      "outputs": [
        {
          "output_type": "execute_result",
          "data": {
            "text/plain": [
              "(0.36900369003690037, 0.3985239852398524, 0.23247232472324722)"
            ]
          },
          "metadata": {},
          "execution_count": 21
        }
      ]
    },
    {
      "cell_type": "markdown",
      "source": [
        "Ответ: наиболее вероятно, что выбранный студент учится на факультете $B$."
      ],
      "metadata": {
        "id": "mUYQ-yKOp-gd"
      }
    }
  ]
}