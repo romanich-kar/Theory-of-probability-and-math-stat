{
  "nbformat": 4,
  "nbformat_minor": 0,
  "metadata": {
    "colab": {
      "name": "Lesson_4.ipynb",
      "provenance": [],
      "collapsed_sections": []
    },
    "kernelspec": {
      "name": "python3",
      "display_name": "Python 3"
    },
    "language_info": {
      "name": "python"
    }
  },
  "cells": [
    {
      "cell_type": "markdown",
      "source": [
        "1. Случайная непрерывная величина A имеет равномерное распределение на промежутке (200, 800].\n",
        "Найдите ее среднее значение и дисперсию.\n"
      ],
      "metadata": {
        "id": "de2HBtjjll-b"
      }
    },
    {
      "cell_type": "markdown",
      "source": [
        "###Решение\n",
        "\n",
        "Для равномерного непрерывного распределения мат. ожидание и дисперсия вычисляются по следующим формулам:\n",
        " \n",
        "M(X) = (a + b)/2\n",
        "\n",
        "D(X) = (b − a)^2/12\n",
        "\n"
      ],
      "metadata": {
        "id": "4QuiJuKRlrfb"
      }
    },
    {
      "cell_type": "code",
      "execution_count": null,
      "metadata": {
        "id": "QwA5pT35liRK"
      },
      "outputs": [],
      "source": [
        "a = 200\n",
        "b = 800"
      ]
    },
    {
      "cell_type": "code",
      "source": [
        "M = (a+b)/2\n",
        "D = (b-a)**2/12\n",
        "print('Математическое ожидание равно: ', M)\n",
        "print('Дисперсия равна: ', D)"
      ],
      "metadata": {
        "colab": {
          "base_uri": "https://localhost:8080/"
        },
        "id": "3aVdGY-CaMPC",
        "outputId": "bd4a6102-f5c4-40cb-f102-0da3ab44f479"
      },
      "execution_count": null,
      "outputs": [
        {
          "output_type": "stream",
          "name": "stdout",
          "text": [
            "Математическое ожидание равно:  500.0\n",
            "Дисперсия равна:  30000.0\n"
          ]
        }
      ]
    },
    {
      "cell_type": "markdown",
      "source": [
        "2. О случайной непрерывной равномерно распределенной величине B известно, что ее дисперсия равна 0.2.\n",
        "Можно ли найти правую границу величины B и ее среднее значение зная, что левая граница равна 0.5?\n",
        "Если да, найдите ее.\n"
      ],
      "metadata": {
        "id": "kQ7qt26Ib8to"
      }
    },
    {
      "cell_type": "markdown",
      "source": [
        "###Решение\n",
        "\n",
        "Воспользуемся формулой для дисперсии равномерно распределенной случайной величины D(X) = (b − a)^2/12.\n",
        "Из нее следует, что правую границу можно найти из уравнения b = sqrt(12D(X)) + a. Возьмем только положительный корень этого уравнения, так как мы ищем правую границу."
      ],
      "metadata": {
        "id": "xayxGJm_cqaM"
      }
    },
    {
      "cell_type": "code",
      "source": [
        "a = 0.5\n",
        "D = 0.2"
      ],
      "metadata": {
        "id": "ARLHBxT6cqGE"
      },
      "execution_count": null,
      "outputs": []
    },
    {
      "cell_type": "code",
      "source": [
        "b = (12*D)**0.5 + a\n",
        "print('Правая граница равна: ', b)"
      ],
      "metadata": {
        "colab": {
          "base_uri": "https://localhost:8080/"
        },
        "id": "13oYt9zO_uh-",
        "outputId": "3519b9f7-7f3b-409d-bae3-344bd17a427b"
      },
      "execution_count": null,
      "outputs": [
        {
          "output_type": "stream",
          "name": "stdout",
          "text": [
            "Правая граница равна:  2.049193338482967\n"
          ]
        }
      ]
    },
    {
      "cell_type": "markdown",
      "source": [
        "Следовательно, среднее значение случайной величины равно:"
      ],
      "metadata": {
        "id": "wp8eLAk8Dj3H"
      }
    },
    {
      "cell_type": "code",
      "source": [
        "m = (a + b)/2\n",
        "m"
      ],
      "metadata": {
        "colab": {
          "base_uri": "https://localhost:8080/"
        },
        "id": "ScSN9KZdDsdj",
        "outputId": "834f11e7-fabd-485e-cd2f-a0fc923fbff4"
      },
      "execution_count": null,
      "outputs": [
        {
          "output_type": "execute_result",
          "data": {
            "text/plain": [
              "1.2745966692414834"
            ]
          },
          "metadata": {},
          "execution_count": 4
        }
      ]
    },
    {
      "cell_type": "markdown",
      "source": [
        "3. Непрерывная случайная величина X распределена нормально и задана плотностью распределения\n",
        "f(x) = (1 / (4 * sqrt(2*pi))) * (exp(-(x+2)**2) / 32).\n",
        "Найдите:\n",
        "\n",
        "а). M(X)\n",
        "\n",
        "б). D(X)\n",
        "\n",
        "в). std(X) (среднее квадратичное отклонение)\n"
      ],
      "metadata": {
        "id": "EPWrOZgND0Dc"
      }
    },
    {
      "cell_type": "markdown",
      "source": [
        "###Решение\n",
        "\n",
        "Общая формула для плотности нормального распределения выглядит так:\n",
        "$$f(x) = \\dfrac{1}{\\sqrt{2 \\pi \\sigma^2}} \\cdot \\exp \\left(- \\frac{(x - \\mu)^2}{2 \\sigma^2} \\right)$$\n",
        "Сопоставляя формулу из условия с общей можно найти искомые величины:\n",
        "\n",
        "M(X) = -2\n",
        "\n",
        "D(X) = 16\n",
        "\n",
        "std(X) = 4"
      ],
      "metadata": {
        "id": "A7ARLJAWD7zM"
      }
    },
    {
      "cell_type": "markdown",
      "source": [
        "4. Рост взрослого населения города X имеет нормальное распределение.\n",
        "Причем, средний рост равен 174 см, а среднее квадратичное отклонение равно 8 см.\n",
        "Какова вероятность того, что случайным образом выбранный взрослый человек имеет рост:\n",
        "а). больше 182 см\n",
        "б). больше 190 см\n",
        "в). от 166 см до 190 см\n",
        "г). от 166 см до 182 см\n",
        "д). от 158 см до 190 см\n",
        "е). не выше 150 см или не ниже 190 см\n",
        "ё). не выше 150 см или не ниже 198 см\n",
        "ж). ниже 166 см.\n"
      ],
      "metadata": {
        "id": "UGRl-QpblLiV"
      }
    },
    {
      "cell_type": "markdown",
      "source": [
        "###Решение\n",
        "\n",
        "Мы имеем непрерывную нормально распределенную величину с параметрами M(X) = 174, std(X) = 8. СФормируем такое распределение:"
      ],
      "metadata": {
        "id": "CjVrujZ6lQZk"
      }
    },
    {
      "cell_type": "code",
      "source": [
        "from scipy import stats\n",
        "import numpy as np"
      ],
      "metadata": {
        "id": "QdYv1mA3alcP"
      },
      "execution_count": 1,
      "outputs": []
    },
    {
      "cell_type": "code",
      "source": [
        "norm = stats.norm(loc=174, scale=8)\n"
      ],
      "metadata": {
        "colab": {
          "base_uri": "https://localhost:8080/"
        },
        "id": "LjXNe9w4arzm",
        "outputId": "337ba0e7-4816-4fe0-cbf0-0f2e9ef2d5d7"
      },
      "execution_count": 5,
      "outputs": [
        {
          "output_type": "execute_result",
          "data": {
            "text/plain": [
              "0.8413447460685429"
            ]
          },
          "metadata": {},
          "execution_count": 5
        }
      ]
    },
    {
      "cell_type": "markdown",
      "source": [
        "Теперь отдельно по заданиям. Какова вероятность того, что случайным образом выбранный взрослый человек имеет рост: а) больше 182 см:\n"
      ],
      "metadata": {
        "id": "WzhGrwV-b3Qv"
      }
    },
    {
      "cell_type": "code",
      "source": [
        "P_1 = 1 - norm.cdf(182)\n",
        "P_1"
      ],
      "metadata": {
        "colab": {
          "base_uri": "https://localhost:8080/"
        },
        "id": "QgIbsf9AcHxV",
        "outputId": "e8398b1d-d875-4614-ad99-530459e23a85"
      },
      "execution_count": 6,
      "outputs": [
        {
          "output_type": "execute_result",
          "data": {
            "text/plain": [
              "0.15865525393145707"
            ]
          },
          "metadata": {},
          "execution_count": 6
        }
      ]
    },
    {
      "cell_type": "markdown",
      "source": [
        " б) больше 190 см:"
      ],
      "metadata": {
        "id": "kEE5I8ZRcSrO"
      }
    },
    {
      "cell_type": "code",
      "source": [
        "P_2 = 1 - norm.cdf(190)\n",
        "P_2"
      ],
      "metadata": {
        "colab": {
          "base_uri": "https://localhost:8080/"
        },
        "id": "NP7-F-PfcVx1",
        "outputId": "30bc5ca6-fd18-43e0-87fa-633985ad2c40"
      },
      "execution_count": 7,
      "outputs": [
        {
          "output_type": "execute_result",
          "data": {
            "text/plain": [
              "0.02275013194817921"
            ]
          },
          "metadata": {},
          "execution_count": 7
        }
      ]
    },
    {
      "cell_type": "markdown",
      "source": [
        "в) от 166 см до 190 см"
      ],
      "metadata": {
        "id": "_Z1oVlRqcmY8"
      }
    },
    {
      "cell_type": "code",
      "source": [
        "P_3 = norm.cdf(190) - norm.cdf(166)\n",
        "P_3"
      ],
      "metadata": {
        "colab": {
          "base_uri": "https://localhost:8080/"
        },
        "id": "irkvRfusct19",
        "outputId": "99fc2402-4212-4fdf-f86e-8622afc29a92"
      },
      "execution_count": 8,
      "outputs": [
        {
          "output_type": "execute_result",
          "data": {
            "text/plain": [
              "0.8185946141203637"
            ]
          },
          "metadata": {},
          "execution_count": 8
        }
      ]
    },
    {
      "cell_type": "markdown",
      "source": [
        "г) от 166 см до 182 см:"
      ],
      "metadata": {
        "id": "05oFW_Hlc89I"
      }
    },
    {
      "cell_type": "code",
      "source": [
        "P_4 = norm.cdf(182) - norm.cdf(166)\n",
        "P_4"
      ],
      "metadata": {
        "colab": {
          "base_uri": "https://localhost:8080/"
        },
        "id": "SdgTSA-meAhW",
        "outputId": "3cefda68-ba53-45d2-996a-1107bae94b01"
      },
      "execution_count": 9,
      "outputs": [
        {
          "output_type": "execute_result",
          "data": {
            "text/plain": [
              "0.6826894921370859"
            ]
          },
          "metadata": {},
          "execution_count": 9
        }
      ]
    },
    {
      "cell_type": "markdown",
      "source": [
        "д) от 158 см до 190 см:"
      ],
      "metadata": {
        "id": "pUPzyY9veIrM"
      }
    },
    {
      "cell_type": "code",
      "source": [
        "P_5 = norm.cdf(190) - norm.cdf(158)\n",
        "P_5"
      ],
      "metadata": {
        "colab": {
          "base_uri": "https://localhost:8080/"
        },
        "id": "CWBL64wreUV0",
        "outputId": "022496de-446c-46ee-ea05-2005ebea5ee8"
      },
      "execution_count": 10,
      "outputs": [
        {
          "output_type": "execute_result",
          "data": {
            "text/plain": [
              "0.9544997361036416"
            ]
          },
          "metadata": {},
          "execution_count": 10
        }
      ]
    },
    {
      "cell_type": "markdown",
      "source": [
        "е) не выше 150 см или не ниже 190 см:"
      ],
      "metadata": {
        "id": "21vteKZnedlN"
      }
    },
    {
      "cell_type": "code",
      "source": [
        "P_6 = norm.cdf(155) + (1 - norm.cdf(190))\n",
        "P_6"
      ],
      "metadata": {
        "colab": {
          "base_uri": "https://localhost:8080/"
        },
        "id": "PcbH15blekMY",
        "outputId": "8388da43-c1f7-46b2-ff61-6900f1886d5e"
      },
      "execution_count": 11,
      "outputs": [
        {
          "output_type": "execute_result",
          "data": {
            "text/plain": [
              "0.03152460704391757"
            ]
          },
          "metadata": {},
          "execution_count": 11
        }
      ]
    },
    {
      "cell_type": "markdown",
      "source": [
        " ё) не выше 150 см или не ниже 198 см:"
      ],
      "metadata": {
        "id": "T_38Sq11e5Z9"
      }
    },
    {
      "cell_type": "code",
      "source": [
        "P_7 = norm.cdf(155) + (1 - norm.cdf(198))\n",
        "P_7"
      ],
      "metadata": {
        "colab": {
          "base_uri": "https://localhost:8080/"
        },
        "id": "JqI7F2Ffe_uU",
        "outputId": "6849af4d-dc2b-484d-b97c-3771712cb6d5"
      },
      "execution_count": 12,
      "outputs": [
        {
          "output_type": "execute_result",
          "data": {
            "text/plain": [
              "0.010124373127368464"
            ]
          },
          "metadata": {},
          "execution_count": 12
        }
      ]
    },
    {
      "cell_type": "markdown",
      "source": [
        "ж) ниже 166 см:"
      ],
      "metadata": {
        "id": "PQ557YawfUpn"
      }
    },
    {
      "cell_type": "code",
      "source": [
        "P_8 = norm.cdf(166)\n",
        "P_8"
      ],
      "metadata": {
        "colab": {
          "base_uri": "https://localhost:8080/"
        },
        "id": "1iLSMKD4fW7V",
        "outputId": "21c555f6-dc50-4f74-8500-057bbc8194ce"
      },
      "execution_count": 13,
      "outputs": [
        {
          "output_type": "execute_result",
          "data": {
            "text/plain": [
              "0.15865525393145707"
            ]
          },
          "metadata": {},
          "execution_count": 13
        }
      ]
    },
    {
      "cell_type": "markdown",
      "source": [
        "5. На сколько сигм (средних квадратичных отклонений) отклоняется рост человека, равный 190 см, от\n",
        "математического ожидания роста в популяции, в которой M(X) = 178 см и D(X) = 25 кв.см?\n"
      ],
      "metadata": {
        "id": "egmVsLZHfmHM"
      }
    },
    {
      "cell_type": "markdown",
      "source": [
        "###Решение\n",
        "\n",
        "По имеющимся данным найдем срднеквадратическое отклонение:"
      ],
      "metadata": {
        "id": "jomePgOGfsHV"
      }
    },
    {
      "cell_type": "code",
      "source": [
        "D = 25\n",
        "std =D**0.5\n",
        "std"
      ],
      "metadata": {
        "colab": {
          "base_uri": "https://localhost:8080/"
        },
        "id": "1yvdVhgwgAGe",
        "outputId": "aa8abfd5-96d4-42d3-9bcb-414159cc86a7"
      },
      "execution_count": 15,
      "outputs": [
        {
          "output_type": "execute_result",
          "data": {
            "text/plain": [
              "5.0"
            ]
          },
          "metadata": {},
          "execution_count": 15
        }
      ]
    },
    {
      "cell_type": "markdown",
      "source": [
        "Теперь узнаем насколько сигм рост 190 см больше мат. ожидания в 178 см:"
      ],
      "metadata": {
        "id": "XqPipKERgOyk"
      }
    },
    {
      "cell_type": "code",
      "source": [
        "M = 174\n",
        "n = (190 - M)/std\n",
        "print(f\"Рост 190 см больше мат. ожидания 174 см в {n} раз\")"
      ],
      "metadata": {
        "colab": {
          "base_uri": "https://localhost:8080/"
        },
        "id": "k7zRxQ4SgYze",
        "outputId": "2ae6d7ff-8194-404b-f699-a7efaf436860"
      },
      "execution_count": 17,
      "outputs": [
        {
          "output_type": "stream",
          "name": "stdout",
          "text": [
            "Рост 190 см больше мат. ожидания 174 см в 3.2 раз\n"
          ]
        }
      ]
    }
  ]
}