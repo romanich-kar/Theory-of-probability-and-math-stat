{
  "nbformat": 4,
  "nbformat_minor": 0,
  "metadata": {
    "colab": {
      "name": "Lesson_7.ipynb",
      "provenance": [],
      "collapsed_sections": []
    },
    "kernelspec": {
      "name": "python3",
      "display_name": "Python 3"
    },
    "language_info": {
      "name": "python"
    }
  },
  "cells": [
    {
      "cell_type": "markdown",
      "source": [
        "__Задача 1__\n",
        "\n",
        "Дана матрица объект-признак\n",
        "```\n",
        "X = [[ 1.22401313,  2.30868478,  3.03636353,  2.69287214],\n",
        "     [-0.18757272,  1.30337355,  5.12093014,  3.46363202],\n",
        "     [-0.81094525,  1.82463398,  5.79686488,  1.86159445],\n",
        "     [ 0.75129018,  2.67392052,  3.65529809,  1.66746094],\n",
        "     [ 0.00972362,  1.97367255,  2.50594319,  1.69755173],\n",
        "     [-0.62972637,  0.77750764,  2.84124027,  4.54410559],\n",
        "     [ 2.29536229,  1.81206697,  1.95026215,  1.51874636],\n",
        "     [ 0.0920418 ,  2.26971361,  7.47708735,  2.61081203],\n",
        "     [ 2.39252799,  3.17563985,  3.61420599,  5.10773362],\n",
        "     [ 0.54983815,  2.87988651,  1.65752765,  1.59635987]]\n",
        "```\n",
        "и значения целевой переменной\n",
        "```\n",
        "y = [ 9.26193358,  9.700363  ,  8.67214805,  8.74796974,  6.18689108,\n",
        "      7.53312713,  7.57643777, 12.44965478, 14.29010746,  6.68361218]\n",
        "```\n",
        "\n",
        "Подберите два признака (из четырёх) так, чтобы уровень линейной зависимости целевой переменной от значений этих признаков был максимальным. Другими словами, модель линейной регрессии на этих признаках должна давать наилучший результат. В качестве ответа запишите значение коэффициента детерминации для модели на этих признаках."
      ],
      "metadata": {
        "id": "NHyuaEuu9QDY"
      }
    },
    {
      "cell_type": "markdown",
      "source": [
        "__Решение__\n",
        "\n",
        "Найдем коэффициенты линейной зависимости целевой переменной от каждого из признаков: "
      ],
      "metadata": {
        "id": "lBZdDFo69js0"
      }
    },
    {
      "cell_type": "code",
      "execution_count": 1,
      "metadata": {
        "id": "DXXHfhhQ9HAF"
      },
      "outputs": [],
      "source": [
        "import numpy as np\n",
        "import pandas as pd\n",
        "from sklearn.linear_model import LinearRegression"
      ]
    },
    {
      "cell_type": "code",
      "source": [
        "x = pd.DataFrame([[1.22401313,  2.30868478,  3.03636353,  2.69287214],\n",
        "     [-0.18757272,  1.30337355,  5.12093014,  3.46363202],\n",
        "     [-0.81094525,  1.82463398,  5.79686488,  1.86159445],\n",
        "     [ 0.75129018,  2.67392052,  3.65529809,  1.66746094],\n",
        "     [ 0.00972362,  1.97367255,  2.50594319,  1.69755173],\n",
        "     [-0.62972637,  0.77750764,  2.84124027,  4.54410559],\n",
        "     [ 2.29536229,  1.81206697,  1.95026215,  1.51874636],\n",
        "     [ 0.0920418 ,  2.26971361,  7.47708735,  2.61081203],\n",
        "     [ 2.39252799,  3.17563985,  3.61420599,  5.10773362],\n",
        "     [ 0.54983815,  2.87988651,  1.65752765,  1.59635987]])\n"
      ],
      "metadata": {
        "id": "CWnDCn1--ACY"
      },
      "execution_count": 2,
      "outputs": []
    },
    {
      "cell_type": "code",
      "source": [
        "y = np.array([9.26193358,  9.700363,  8.67214805,  8.74796974,  6.18689108, 7.53312713,  7.57643777, 12.44965478, 14.29010746,  6.68361218])"
      ],
      "metadata": {
        "id": "SEPIlOc1-HiA"
      },
      "execution_count": 3,
      "outputs": []
    },
    {
      "cell_type": "code",
      "source": [
        "y.shape"
      ],
      "metadata": {
        "colab": {
          "base_uri": "https://localhost:8080/"
        },
        "id": "TJa5VLB_-_ft",
        "outputId": "c17660db-789e-402b-fb3f-b405c52a4a5d"
      },
      "execution_count": 4,
      "outputs": [
        {
          "output_type": "execute_result",
          "data": {
            "text/plain": [
              "(10,)"
            ]
          },
          "metadata": {},
          "execution_count": 4
        }
      ]
    },
    {
      "cell_type": "code",
      "source": [
        "for i in range(0, 4):\n",
        "  b1 = np.cov(x[i], y, ddof=1)[0, 1] / np.var(x[i], ddof=1)\n",
        "  print(b1)"
      ],
      "metadata": {
        "colab": {
          "base_uri": "https://localhost:8080/"
        },
        "id": "T8uyvF08-LTQ",
        "outputId": "bca4d61c-b1aa-4460-c0da-271ee8ac4fca"
      },
      "execution_count": 5,
      "outputs": [
        {
          "output_type": "stream",
          "name": "stdout",
          "text": [
            "0.7991693729496844\n",
            "1.4003156134853512\n",
            "0.803310579194931\n",
            "1.1783848740628293\n"
          ]
        }
      ]
    },
    {
      "cell_type": "markdown",
      "source": [
        "Из расчетов делаем вывод, что максимально влияют на целевую перменную второй и четвертый признаки. Теперь построим модель линейной регрессии на них."
      ],
      "metadata": {
        "id": "477Dk0j0ILFv"
      }
    },
    {
      "cell_type": "code",
      "source": [
        "x1 = x.drop([0, 2], axis=1)\n",
        "x1"
      ],
      "metadata": {
        "colab": {
          "base_uri": "https://localhost:8080/",
          "height": 363
        },
        "id": "J1tV7UtZUA-1",
        "outputId": "1ae5c92b-d6e5-44af-8b78-1821b9107b77"
      },
      "execution_count": 6,
      "outputs": [
        {
          "output_type": "execute_result",
          "data": {
            "text/html": [
              "\n",
              "  <div id=\"df-37874755-e6ec-4474-8d48-3728f84f4b7a\">\n",
              "    <div class=\"colab-df-container\">\n",
              "      <div>\n",
              "<style scoped>\n",
              "    .dataframe tbody tr th:only-of-type {\n",
              "        vertical-align: middle;\n",
              "    }\n",
              "\n",
              "    .dataframe tbody tr th {\n",
              "        vertical-align: top;\n",
              "    }\n",
              "\n",
              "    .dataframe thead th {\n",
              "        text-align: right;\n",
              "    }\n",
              "</style>\n",
              "<table border=\"1\" class=\"dataframe\">\n",
              "  <thead>\n",
              "    <tr style=\"text-align: right;\">\n",
              "      <th></th>\n",
              "      <th>1</th>\n",
              "      <th>3</th>\n",
              "    </tr>\n",
              "  </thead>\n",
              "  <tbody>\n",
              "    <tr>\n",
              "      <th>0</th>\n",
              "      <td>2.308685</td>\n",
              "      <td>2.692872</td>\n",
              "    </tr>\n",
              "    <tr>\n",
              "      <th>1</th>\n",
              "      <td>1.303374</td>\n",
              "      <td>3.463632</td>\n",
              "    </tr>\n",
              "    <tr>\n",
              "      <th>2</th>\n",
              "      <td>1.824634</td>\n",
              "      <td>1.861594</td>\n",
              "    </tr>\n",
              "    <tr>\n",
              "      <th>3</th>\n",
              "      <td>2.673921</td>\n",
              "      <td>1.667461</td>\n",
              "    </tr>\n",
              "    <tr>\n",
              "      <th>4</th>\n",
              "      <td>1.973673</td>\n",
              "      <td>1.697552</td>\n",
              "    </tr>\n",
              "    <tr>\n",
              "      <th>5</th>\n",
              "      <td>0.777508</td>\n",
              "      <td>4.544106</td>\n",
              "    </tr>\n",
              "    <tr>\n",
              "      <th>6</th>\n",
              "      <td>1.812067</td>\n",
              "      <td>1.518746</td>\n",
              "    </tr>\n",
              "    <tr>\n",
              "      <th>7</th>\n",
              "      <td>2.269714</td>\n",
              "      <td>2.610812</td>\n",
              "    </tr>\n",
              "    <tr>\n",
              "      <th>8</th>\n",
              "      <td>3.175640</td>\n",
              "      <td>5.107734</td>\n",
              "    </tr>\n",
              "    <tr>\n",
              "      <th>9</th>\n",
              "      <td>2.879887</td>\n",
              "      <td>1.596360</td>\n",
              "    </tr>\n",
              "  </tbody>\n",
              "</table>\n",
              "</div>\n",
              "      <button class=\"colab-df-convert\" onclick=\"convertToInteractive('df-37874755-e6ec-4474-8d48-3728f84f4b7a')\"\n",
              "              title=\"Convert this dataframe to an interactive table.\"\n",
              "              style=\"display:none;\">\n",
              "        \n",
              "  <svg xmlns=\"http://www.w3.org/2000/svg\" height=\"24px\"viewBox=\"0 0 24 24\"\n",
              "       width=\"24px\">\n",
              "    <path d=\"M0 0h24v24H0V0z\" fill=\"none\"/>\n",
              "    <path d=\"M18.56 5.44l.94 2.06.94-2.06 2.06-.94-2.06-.94-.94-2.06-.94 2.06-2.06.94zm-11 1L8.5 8.5l.94-2.06 2.06-.94-2.06-.94L8.5 2.5l-.94 2.06-2.06.94zm10 10l.94 2.06.94-2.06 2.06-.94-2.06-.94-.94-2.06-.94 2.06-2.06.94z\"/><path d=\"M17.41 7.96l-1.37-1.37c-.4-.4-.92-.59-1.43-.59-.52 0-1.04.2-1.43.59L10.3 9.45l-7.72 7.72c-.78.78-.78 2.05 0 2.83L4 21.41c.39.39.9.59 1.41.59.51 0 1.02-.2 1.41-.59l7.78-7.78 2.81-2.81c.8-.78.8-2.07 0-2.86zM5.41 20L4 18.59l7.72-7.72 1.47 1.35L5.41 20z\"/>\n",
              "  </svg>\n",
              "      </button>\n",
              "      \n",
              "  <style>\n",
              "    .colab-df-container {\n",
              "      display:flex;\n",
              "      flex-wrap:wrap;\n",
              "      gap: 12px;\n",
              "    }\n",
              "\n",
              "    .colab-df-convert {\n",
              "      background-color: #E8F0FE;\n",
              "      border: none;\n",
              "      border-radius: 50%;\n",
              "      cursor: pointer;\n",
              "      display: none;\n",
              "      fill: #1967D2;\n",
              "      height: 32px;\n",
              "      padding: 0 0 0 0;\n",
              "      width: 32px;\n",
              "    }\n",
              "\n",
              "    .colab-df-convert:hover {\n",
              "      background-color: #E2EBFA;\n",
              "      box-shadow: 0px 1px 2px rgba(60, 64, 67, 0.3), 0px 1px 3px 1px rgba(60, 64, 67, 0.15);\n",
              "      fill: #174EA6;\n",
              "    }\n",
              "\n",
              "    [theme=dark] .colab-df-convert {\n",
              "      background-color: #3B4455;\n",
              "      fill: #D2E3FC;\n",
              "    }\n",
              "\n",
              "    [theme=dark] .colab-df-convert:hover {\n",
              "      background-color: #434B5C;\n",
              "      box-shadow: 0px 1px 3px 1px rgba(0, 0, 0, 0.15);\n",
              "      filter: drop-shadow(0px 1px 2px rgba(0, 0, 0, 0.3));\n",
              "      fill: #FFFFFF;\n",
              "    }\n",
              "  </style>\n",
              "\n",
              "      <script>\n",
              "        const buttonEl =\n",
              "          document.querySelector('#df-37874755-e6ec-4474-8d48-3728f84f4b7a button.colab-df-convert');\n",
              "        buttonEl.style.display =\n",
              "          google.colab.kernel.accessAllowed ? 'block' : 'none';\n",
              "\n",
              "        async function convertToInteractive(key) {\n",
              "          const element = document.querySelector('#df-37874755-e6ec-4474-8d48-3728f84f4b7a');\n",
              "          const dataTable =\n",
              "            await google.colab.kernel.invokeFunction('convertToInteractive',\n",
              "                                                     [key], {});\n",
              "          if (!dataTable) return;\n",
              "\n",
              "          const docLinkHtml = 'Like what you see? Visit the ' +\n",
              "            '<a target=\"_blank\" href=https://colab.research.google.com/notebooks/data_table.ipynb>data table notebook</a>'\n",
              "            + ' to learn more about interactive tables.';\n",
              "          element.innerHTML = '';\n",
              "          dataTable['output_type'] = 'display_data';\n",
              "          await google.colab.output.renderOutput(dataTable, element);\n",
              "          const docLink = document.createElement('div');\n",
              "          docLink.innerHTML = docLinkHtml;\n",
              "          element.appendChild(docLink);\n",
              "        }\n",
              "      </script>\n",
              "    </div>\n",
              "  </div>\n",
              "  "
            ],
            "text/plain": [
              "          1         3\n",
              "0  2.308685  2.692872\n",
              "1  1.303374  3.463632\n",
              "2  1.824634  1.861594\n",
              "3  2.673921  1.667461\n",
              "4  1.973673  1.697552\n",
              "5  0.777508  4.544106\n",
              "6  1.812067  1.518746\n",
              "7  2.269714  2.610812\n",
              "8  3.175640  5.107734\n",
              "9  2.879887  1.596360"
            ]
          },
          "metadata": {},
          "execution_count": 6
        }
      ]
    },
    {
      "cell_type": "code",
      "source": [
        "lr = LinearRegression(fit_intercept=False).fit(x1, y)"
      ],
      "metadata": {
        "id": "V7fxFqX2Is1m"
      },
      "execution_count": 7,
      "outputs": []
    },
    {
      "cell_type": "markdown",
      "source": [
        "Посчитаем предсказанные моделью значения y и ошибку в предсказании модели:"
      ],
      "metadata": {
        "id": "Cxicx0iBClmU"
      }
    },
    {
      "cell_type": "code",
      "source": [
        "y1 = x1[1]*lr.coef_[0] + x1[3]*lr.coef_[1]\n",
        "y1"
      ],
      "metadata": {
        "colab": {
          "base_uri": "https://localhost:8080/"
        },
        "id": "LUxy_e0GDpA0",
        "outputId": "56bc6dbf-d0b2-4a4e-c96e-6580e40aa2a1"
      },
      "execution_count": 8,
      "outputs": [
        {
          "output_type": "execute_result",
          "data": {
            "text/plain": [
              "0     9.505510\n",
              "1     8.397632\n",
              "2     7.096572\n",
              "3     8.745344\n",
              "4     7.183174\n",
              "5     8.874571\n",
              "6     6.532917\n",
              "7     9.287959\n",
              "8    15.264412\n",
              "9     9.107731\n",
              "dtype: float64"
            ]
          },
          "metadata": {},
          "execution_count": 8
        }
      ]
    },
    {
      "cell_type": "code",
      "source": [
        "e1 = y - y1\n",
        "e1"
      ],
      "metadata": {
        "colab": {
          "base_uri": "https://localhost:8080/"
        },
        "id": "vT58rlntaw9g",
        "outputId": "66bba729-f823-4f45-c8c5-a2d0beb6fe0d"
      },
      "execution_count": 11,
      "outputs": [
        {
          "output_type": "execute_result",
          "data": {
            "text/plain": [
              "0   -0.243576\n",
              "1    1.302731\n",
              "2    1.575576\n",
              "3    0.002625\n",
              "4   -0.996283\n",
              "5   -1.341444\n",
              "6    1.043521\n",
              "7    3.161695\n",
              "8   -0.974305\n",
              "9   -2.424119\n",
              "dtype: float64"
            ]
          },
          "metadata": {},
          "execution_count": 11
        }
      ]
    },
    {
      "cell_type": "markdown",
      "source": [
        "Посчитаем коэффициент детерминации:"
      ],
      "metadata": {
        "id": "vwkbEzVaFUj3"
      }
    },
    {
      "cell_type": "code",
      "source": [
        "def sum_of_squares(samples: np.ndarray) -> float:\n",
        "    \"\"\"Сумма квадратов отклонений.\n",
        "    \"\"\"\n",
        "    \n",
        "    return ((samples - samples.mean()) ** 2).sum()"
      ],
      "metadata": {
        "id": "_QUaDpGhFQrK"
      },
      "execution_count": 9,
      "outputs": []
    },
    {
      "cell_type": "code",
      "source": [
        "R = 1 - sum_of_squares(e1) / sum_of_squares(y)\n",
        "R"
      ],
      "metadata": {
        "colab": {
          "base_uri": "https://localhost:8080/"
        },
        "id": "-v3dieemFeOY",
        "outputId": "905e5936-3fdf-4d71-a709-54b3669b0e34"
      },
      "execution_count": 12,
      "outputs": [
        {
          "output_type": "execute_result",
          "data": {
            "text/plain": [
              "0.5717210122042007"
            ]
          },
          "metadata": {},
          "execution_count": 12
        }
      ]
    },
    {
      "cell_type": "markdown",
      "source": [
        "__Задача 2__\n",
        "\n",
        "Является ли значимым уравнение регрессии, полученное в предыдущей задаче? В качестве ответа запишите 1, если является, и 0 иначе.\n"
      ],
      "metadata": {
        "id": "uLpzm5HxF0n3"
      }
    },
    {
      "cell_type": "markdown",
      "source": [
        "__Решение__\n",
        "\n",
        "Чтобы найти ответ проведем тест Фишера. Определим праметры k1 и k2:"
      ],
      "metadata": {
        "id": "ei3Iw9ddF_CY"
      }
    },
    {
      "cell_type": "code",
      "source": [
        "n = 10\n",
        "m = 2"
      ],
      "metadata": {
        "id": "yQcUSx2MvmPZ"
      },
      "execution_count": 13,
      "outputs": []
    },
    {
      "cell_type": "code",
      "source": [
        "k1 = m\n",
        "k2 = n - m - 1\n",
        "k1, k2"
      ],
      "metadata": {
        "colab": {
          "base_uri": "https://localhost:8080/"
        },
        "id": "JUUcv5eVv2tZ",
        "outputId": "f7199eda-98da-457a-ea6b-dc9d0bbaf54e"
      },
      "execution_count": 14,
      "outputs": [
        {
          "output_type": "execute_result",
          "data": {
            "text/plain": [
              "(2, 7)"
            ]
          },
          "metadata": {},
          "execution_count": 14
        }
      ]
    },
    {
      "cell_type": "markdown",
      "source": [
        "Возьмём уровень значимости $\\alpha = 0.05$. Нужный нам квантиль можно посчитать с помощью функции `scipy.stats.f.ppf`:"
      ],
      "metadata": {
        "id": "nmBWd0rRwDTK"
      }
    },
    {
      "cell_type": "code",
      "source": [
        "from scipy import stats"
      ],
      "metadata": {
        "id": "iAUnpvR6wEI0"
      },
      "execution_count": 15,
      "outputs": []
    },
    {
      "cell_type": "code",
      "source": [
        "alpha = 0.05\n",
        "t = stats.f.ppf(1 - alpha, k1, k2)\n",
        "t"
      ],
      "metadata": {
        "colab": {
          "base_uri": "https://localhost:8080/"
        },
        "id": "OIzOxnc4wLSr",
        "outputId": "41135ecb-5611-46ea-93c5-3c9a5e7b8e59"
      },
      "execution_count": 16,
      "outputs": [
        {
          "output_type": "execute_result",
          "data": {
            "text/plain": [
              "4.73741412777588"
            ]
          },
          "metadata": {},
          "execution_count": 16
        }
      ]
    },
    {
      "cell_type": "markdown",
      "source": [
        "Итак, критическая область:\n",
        "$$\\Omega_\\alpha = \\left( 4.737, \\infty \\right)$$"
      ],
      "metadata": {
        "id": "KKfv4dqUwQbD"
      }
    },
    {
      "cell_type": "markdown",
      "source": [
        "Считаем значение статистики:"
      ],
      "metadata": {
        "id": "jk-9vwIIwjf0"
      }
    },
    {
      "cell_type": "code",
      "source": [
        "F = (R / k1) / ((1 - R) / k2)\n",
        "F"
      ],
      "metadata": {
        "colab": {
          "base_uri": "https://localhost:8080/"
        },
        "id": "K3f7-WvJwkWE",
        "outputId": "94eaebd9-5ee8-4c59-b5d6-da6491d80d05"
      },
      "execution_count": 17,
      "outputs": [
        {
          "output_type": "execute_result",
          "data": {
            "text/plain": [
              "4.672243093253918"
            ]
          },
          "metadata": {},
          "execution_count": 17
        }
      ]
    },
    {
      "cell_type": "markdown",
      "source": [
        "Значение статистики не попало в критическую область. Уравнение регрессии считаем значимым.\n",
        "\n",
        "Ответ: 1"
      ],
      "metadata": {
        "id": "yYBsGVitxMUm"
      }
    },
    {
      "cell_type": "markdown",
      "source": [
        "__Задача 3__\n",
        "\n",
        "Для проведения A/B-тестирования сайта интернет-магазина были получены следующие данные: страница `A` была посещена 2509 раз, из них 77 закончились совершением покупки, страница `B` была посещена 1465 раз, 60 из них закончились совершением покупки. Является ли значимым отличие конверсии на страницах `A` и `B`? В качестве ответа запишите 1, если является, и 0 иначе.\n",
        "\n",
        "_Подсказка_. Реализуйте двухвыборочный t-тест. В качестве выборок здесь можно взять наборы меток совершения покупки (0 или 1) каждым посетителем."
      ],
      "metadata": {
        "id": "vy-Q5QelF_d3"
      }
    },
    {
      "cell_type": "markdown",
      "source": [
        "__Решение__\n",
        "\n",
        "Проверим гипотезу о том, что математическое ожидание двух выборок A и B равны. Если это так, то отличие конверсий на страницах A и B не является значимым. В качестве выборок берем наборы меток совершения покупки (0 или 1) каждым посетителем. Реализуем двухвыборочный t-тест."
      ],
      "metadata": {
        "id": "rEJxrhaMxLG-"
      }
    },
    {
      "cell_type": "code",
      "source": [
        "n1 = 2509\n",
        "n2 = 1465\n",
        "x1_m = 77 / n1\n",
        "x2_m = 60 / n2\n",
        "x1_m, x2_m"
      ],
      "metadata": {
        "colab": {
          "base_uri": "https://localhost:8080/"
        },
        "id": "ecqF-G1O40GW",
        "outputId": "c55f3a8e-5b76-4381-e93f-c34fe178ea52"
      },
      "execution_count": 27,
      "outputs": [
        {
          "output_type": "execute_result",
          "data": {
            "text/plain": [
              "(0.03068951773614986, 0.040955631399317405)"
            ]
          },
          "metadata": {},
          "execution_count": 27
        }
      ]
    },
    {
      "cell_type": "code",
      "source": [
        "s1 = 77*(1-x1_m)**2 / (n1 -1)\n",
        "s2 = 60*(1-x2_m)**2 / (n2 - 1)\n",
        "s1, s2"
      ],
      "metadata": {
        "colab": {
          "base_uri": "https://localhost:8080/"
        },
        "id": "wckZIwh548Fl",
        "outputId": "8bde9c58-4ef2-4091-b213-03a5518d7227"
      },
      "execution_count": 26,
      "outputs": [
        {
          "output_type": "execute_result",
          "data": {
            "text/plain": [
              "(0.028846226654324757, 0.037695332005929595)"
            ]
          },
          "metadata": {},
          "execution_count": 26
        }
      ]
    },
    {
      "cell_type": "markdown",
      "source": [
        "Посчитаем значение  $\\sigma_\\Delta$:"
      ],
      "metadata": {
        "id": "MmALG2E86jmK"
      }
    },
    {
      "cell_type": "code",
      "source": [
        "s_delta = np.sqrt(s1 ** 2 / n1 + s2 ** 2 / n2)\n",
        "s_delta"
      ],
      "metadata": {
        "colab": {
          "base_uri": "https://localhost:8080/"
        },
        "id": "JvFZDPP66qsR",
        "outputId": "5f036892-59cf-4da2-96c3-14f3b7f44614"
      },
      "execution_count": 28,
      "outputs": [
        {
          "output_type": "execute_result",
          "data": {
            "text/plain": [
              "0.0011408643964951916"
            ]
          },
          "metadata": {},
          "execution_count": 28
        }
      ]
    },
    {
      "cell_type": "markdown",
      "source": [
        "Посчитаем значение статистики: $$t = \\dfrac{\\overline{X_1} - \\overline{X_2}}{\\sigma_\\Delta}$$"
      ],
      "metadata": {
        "id": "p0NecRgu7sEe"
      }
    },
    {
      "cell_type": "code",
      "source": [
        "t = (x1_m - x2_m) / s_delta\n",
        "t"
      ],
      "metadata": {
        "colab": {
          "base_uri": "https://localhost:8080/"
        },
        "id": "iGd3RKzo7mRk",
        "outputId": "99903dde-3f18-4adf-f6d3-3e15681b7f69"
      },
      "execution_count": 29,
      "outputs": [
        {
          "output_type": "execute_result",
          "data": {
            "text/plain": [
              "-8.998539786766687"
            ]
          },
          "metadata": {},
          "execution_count": 29
        }
      ]
    },
    {
      "cell_type": "markdown",
      "source": [
        "Зафиксируем уровень значимости $\\alpha = 0.05$. Теперь нужно посчитать квантили распределения Стьюдента. Посчитаем число степеней свободы этого распределения:"
      ],
      "metadata": {
        "id": "kr9gjwYO9SHA"
      }
    },
    {
      "cell_type": "code",
      "source": [
        "df = (s1 ** 2 / n1 + s2 ** 2 / n2) ** 2 / \\\n",
        "    ((s1 ** 2 / n1) ** 2 / (n1 - 1) + (s2 ** 2 / n2) ** 2 / (n2 - 1))\n",
        "\n",
        "df"
      ],
      "metadata": {
        "colab": {
          "base_uri": "https://localhost:8080/"
        },
        "id": "xsaHjaPS9S34",
        "outputId": "68f94043-7178-48da-9b5d-59b86b0924f1"
      },
      "execution_count": 30,
      "outputs": [
        {
          "output_type": "execute_result",
          "data": {
            "text/plain": [
              "2467.912992699112"
            ]
          },
          "metadata": {},
          "execution_count": 30
        }
      ]
    },
    {
      "cell_type": "markdown",
      "source": [
        "Рассчитаем квантили:"
      ],
      "metadata": {
        "id": "YLK1A0IR9bSI"
      }
    },
    {
      "cell_type": "code",
      "source": [
        "alpha = 0.05\n",
        "\n",
        "t1 = stats.t.ppf(alpha / 2, df=df)\n",
        "t2 = stats.t.ppf(1 - alpha / 2, df=df)\n",
        "\n",
        "t1, t2"
      ],
      "metadata": {
        "colab": {
          "base_uri": "https://localhost:8080/"
        },
        "id": "XrmBAu-w9eEA",
        "outputId": "de146d50-7af8-47bf-be59-267bb85fde27"
      },
      "execution_count": 31,
      "outputs": [
        {
          "output_type": "execute_result",
          "data": {
            "text/plain": [
              "(-1.960925694023086, 1.9609256940230855)"
            ]
          },
          "metadata": {},
          "execution_count": 31
        }
      ]
    },
    {
      "cell_type": "markdown",
      "source": [
        "Итак, критическая область имеет вид:\n",
        "$$\\Omega_\\alpha = (-\\infty, -1.96) \\cup (1.96, \\infty)$$\n",
        "\n",
        "Значение статистики попало в критическую область. Гипотеза о равенстве математических ожиданий отвергается. Значит, утверждение о том, что различие конверсий не является значимым ложно.\n",
        "\n",
        "Ответ: 1"
      ],
      "metadata": {
        "id": "fPYmDjUc92ST"
      }
    }
  ]
}